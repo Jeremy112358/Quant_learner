{
 "cells": [
  {
   "cell_type": "code",
   "id": "initial_id",
   "metadata": {
    "collapsed": true,
    "ExecuteTime": {
     "end_time": "2025-04-01T15:50:15.976702Z",
     "start_time": "2025-04-01T15:50:15.563088Z"
    }
   },
   "source": [
    "import tushare as ts\n",
    "import jqdatasdk as jq\n",
    "\n",
    "\n",
    "import json\n",
    "import numpy as np\n",
    "import pandas as pd\n",
    "\n",
    "from functools import reduce\n",
    "from tqdm import tqdm_notebook\n",
    "from dateutil.parser import parse\n",
    "\n",
    "from alphalens.utils import print_table\n",
    "from pyfolio.plotting import (plot_drawdown_periods,\n",
    "                              show_worst_drawdown_periods)\n",
    "\n",
    "import seaborn as sns\n",
    "import matplotlib.pyplot as plt\n",
    "\n",
    "plt.rcParams['font.family'] = 'serif'\n",
    "plt.rcParams['font.sans-serif'] = ['SimHei'] # 指定默认字体\n",
    "plt.rcParams['axes.unicode_minus'] = False # 解决保存图像是负号'-'显示为方块的问题\n",
    "plt.style.use('seaborn')"
   ],
   "outputs": [
    {
     "ename": "ImportError",
     "evalue": "cannot import name 'TypeAliasType' from 'typing_extensions' (D:\\软件\\Python\\lib\\site-packages\\typing_extensions.py)",
     "output_type": "error",
     "traceback": [
      "\u001B[1;31m---------------------------------------------------------------------------\u001B[0m",
      "\u001B[1;31mImportError\u001B[0m                               Traceback (most recent call last)",
      "Cell \u001B[1;32mIn[2], line 2\u001B[0m\n\u001B[0;32m      1\u001B[0m \u001B[38;5;28;01mimport\u001B[39;00m \u001B[38;5;21;01mtushare\u001B[39;00m \u001B[38;5;28;01mas\u001B[39;00m \u001B[38;5;21;01mts\u001B[39;00m\n\u001B[1;32m----> 2\u001B[0m \u001B[38;5;28;01mimport\u001B[39;00m \u001B[38;5;21;01mjqdatasdk\u001B[39;00m \u001B[38;5;28;01mas\u001B[39;00m \u001B[38;5;21;01mjq\u001B[39;00m\n\u001B[0;32m      3\u001B[0m jq\u001B[38;5;241m.\u001B[39mauth(\u001B[38;5;124m\"\u001B[39m\u001B[38;5;124m18321923578\u001B[39m\u001B[38;5;124m\"\u001B[39m, \u001B[38;5;124m\"\u001B[39m\u001B[38;5;124m112358GYCyyds\u001B[39m\u001B[38;5;124m\"\u001B[39m)  \u001B[38;5;66;03m# 登录后才能调用数据\u001B[39;00m\n\u001B[0;32m      4\u001B[0m df \u001B[38;5;241m=\u001B[39m jq\u001B[38;5;241m.\u001B[39mget_price(\u001B[38;5;124m\"\u001B[39m\u001B[38;5;124m000001.XSHE\u001B[39m\u001B[38;5;124m\"\u001B[39m)  \u001B[38;5;66;03m# 示例：获取平安银行股票数据\u001B[39;00m\n",
      "File \u001B[1;32mD:\\软件\\Python\\lib\\site-packages\\jqdatasdk\\__init__.py:3\u001B[0m\n\u001B[0;32m      1\u001B[0m \u001B[38;5;66;03m# coding=utf-8\u001B[39;00m\n\u001B[1;32m----> 3\u001B[0m \u001B[38;5;28;01mfrom\u001B[39;00m \u001B[38;5;21;01m.\u001B[39;00m\u001B[38;5;21;01mapi\u001B[39;00m \u001B[38;5;28;01mimport\u001B[39;00m \u001B[38;5;241m*\u001B[39m  \u001B[38;5;66;03m# noqa\u001B[39;00m\n\u001B[0;32m      4\u001B[0m \u001B[38;5;28;01mfrom\u001B[39;00m \u001B[38;5;21;01m.\u001B[39;00m\u001B[38;5;21;01mtable\u001B[39;00m \u001B[38;5;28;01mimport\u001B[39;00m \u001B[38;5;241m*\u001B[39m  \u001B[38;5;66;03m# noqa\u001B[39;00m\n\u001B[0;32m      5\u001B[0m \u001B[38;5;28;01mfrom\u001B[39;00m \u001B[38;5;21;01m.\u001B[39;00m\u001B[38;5;21;01mfinance_service\u001B[39;00m \u001B[38;5;28;01mimport\u001B[39;00m \u001B[38;5;241m*\u001B[39m  \u001B[38;5;66;03m# noqa\u001B[39;00m\n",
      "File \u001B[1;32mD:\\软件\\Python\\lib\\site-packages\\jqdatasdk\\api.py:12\u001B[0m\n\u001B[0;32m      9\u001B[0m \u001B[38;5;28;01mimport\u001B[39;00m \u001B[38;5;21;01mrequests\u001B[39;00m\n\u001B[0;32m     10\u001B[0m \u001B[38;5;28;01mimport\u001B[39;00m \u001B[38;5;21;01mpandas\u001B[39;00m \u001B[38;5;28;01mas\u001B[39;00m \u001B[38;5;21;01mpd\u001B[39;00m\n\u001B[1;32m---> 12\u001B[0m \u001B[38;5;28;01mfrom\u001B[39;00m \u001B[38;5;21;01m.\u001B[39;00m\u001B[38;5;21;01mutils\u001B[39;00m \u001B[38;5;28;01mimport\u001B[39;00m (\n\u001B[0;32m     13\u001B[0m     assert_auth, hashable_lru, PandasChecker, ParamsError,\n\u001B[0;32m     14\u001B[0m     to_date, to_date_str, today_str, convert_fields_to_str,\n\u001B[0;32m     15\u001B[0m     Security, Security2, convert_security, normal_security_code,\n\u001B[0;32m     16\u001B[0m     remove_duplicated_tables\n\u001B[0;32m     17\u001B[0m )\n\u001B[0;32m     18\u001B[0m \u001B[38;5;28;01mfrom\u001B[39;00m \u001B[38;5;21;01m.\u001B[39;00m\u001B[38;5;21;01mclient\u001B[39;00m \u001B[38;5;28;01mimport\u001B[39;00m JQDataClient\n\u001B[0;32m     19\u001B[0m \u001B[38;5;28;01mfrom\u001B[39;00m \u001B[38;5;21;01m.\u001B[39;00m\u001B[38;5;21;01mfinance_tables\u001B[39;00m \u001B[38;5;28;01mimport\u001B[39;00m Base\n",
      "File \u001B[1;32mD:\\软件\\Python\\lib\\site-packages\\jqdatasdk\\utils.py:147\u001B[0m\n\u001B[0;32m    143\u001B[0m     session \u001B[38;5;241m=\u001B[39m scoped_session(sessionmaker())\n\u001B[0;32m    144\u001B[0m     \u001B[38;5;28;01mreturn\u001B[39;00m session\n\u001B[1;32m--> 147\u001B[0m _sql_session \u001B[38;5;241m=\u001B[39m \u001B[43m_get_sql_session\u001B[49m\u001B[43m(\u001B[49m\u001B[43m)\u001B[49m\n\u001B[0;32m    150\u001B[0m \u001B[38;5;28;01mclass\u001B[39;00m \u001B[38;5;21;01mSqlQuery\u001B[39;00m(import_module(\u001B[38;5;124m\"\u001B[39m\u001B[38;5;124msqlalchemy.orm\u001B[39m\u001B[38;5;124m\"\u001B[39m)\u001B[38;5;241m.\u001B[39mQuery):\n\u001B[0;32m    152\u001B[0m     limit_value \u001B[38;5;241m=\u001B[39m \u001B[38;5;28;01mNone\u001B[39;00m\n",
      "File \u001B[1;32mD:\\软件\\Python\\lib\\site-packages\\jqdatasdk\\utils.py:142\u001B[0m, in \u001B[0;36m_get_sql_session\u001B[1;34m()\u001B[0m\n\u001B[0;32m    141\u001B[0m \u001B[38;5;28;01mdef\u001B[39;00m \u001B[38;5;21m_get_sql_session\u001B[39m():\n\u001B[1;32m--> 142\u001B[0m     \u001B[38;5;28;01mfrom\u001B[39;00m \u001B[38;5;21;01msqlalchemy\u001B[39;00m\u001B[38;5;21;01m.\u001B[39;00m\u001B[38;5;21;01morm\u001B[39;00m \u001B[38;5;28;01mimport\u001B[39;00m scoped_session, sessionmaker\n\u001B[0;32m    143\u001B[0m     session \u001B[38;5;241m=\u001B[39m scoped_session(sessionmaker())\n\u001B[0;32m    144\u001B[0m     \u001B[38;5;28;01mreturn\u001B[39;00m session\n",
      "File \u001B[1;32mD:\\软件\\Python\\lib\\site-packages\\sqlalchemy\\__init__.py:12\u001B[0m\n\u001B[0;32m      8\u001B[0m \u001B[38;5;28;01mfrom\u001B[39;00m \u001B[38;5;21;01m__future__\u001B[39;00m \u001B[38;5;28;01mimport\u001B[39;00m annotations\n\u001B[0;32m     10\u001B[0m \u001B[38;5;28;01mfrom\u001B[39;00m \u001B[38;5;21;01mtyping\u001B[39;00m \u001B[38;5;28;01mimport\u001B[39;00m Any\n\u001B[1;32m---> 12\u001B[0m \u001B[38;5;28;01mfrom\u001B[39;00m \u001B[38;5;21;01m.\u001B[39;00m \u001B[38;5;28;01mimport\u001B[39;00m util \u001B[38;5;28;01mas\u001B[39;00m _util\n\u001B[0;32m     13\u001B[0m \u001B[38;5;28;01mfrom\u001B[39;00m \u001B[38;5;21;01m.\u001B[39;00m\u001B[38;5;21;01mengine\u001B[39;00m \u001B[38;5;28;01mimport\u001B[39;00m AdaptedConnection \u001B[38;5;28;01mas\u001B[39;00m AdaptedConnection\n\u001B[0;32m     14\u001B[0m \u001B[38;5;28;01mfrom\u001B[39;00m \u001B[38;5;21;01m.\u001B[39;00m\u001B[38;5;21;01mengine\u001B[39;00m \u001B[38;5;28;01mimport\u001B[39;00m BaseRow \u001B[38;5;28;01mas\u001B[39;00m BaseRow\n",
      "File \u001B[1;32mD:\\软件\\Python\\lib\\site-packages\\sqlalchemy\\util\\__init__.py:15\u001B[0m\n\u001B[0;32m     12\u001B[0m \u001B[38;5;28;01mfrom\u001B[39;00m \u001B[38;5;21;01mtyping\u001B[39;00m \u001B[38;5;28;01mimport\u001B[39;00m TYPE_CHECKING\n\u001B[0;32m     14\u001B[0m \u001B[38;5;28;01mfrom\u001B[39;00m \u001B[38;5;21;01m.\u001B[39;00m \u001B[38;5;28;01mimport\u001B[39;00m preloaded \u001B[38;5;28;01mas\u001B[39;00m preloaded\n\u001B[1;32m---> 15\u001B[0m \u001B[38;5;28;01mfrom\u001B[39;00m \u001B[38;5;21;01m.\u001B[39;00m\u001B[38;5;21;01m_collections\u001B[39;00m \u001B[38;5;28;01mimport\u001B[39;00m coerce_generator_arg \u001B[38;5;28;01mas\u001B[39;00m coerce_generator_arg\n\u001B[0;32m     16\u001B[0m \u001B[38;5;28;01mfrom\u001B[39;00m \u001B[38;5;21;01m.\u001B[39;00m\u001B[38;5;21;01m_collections\u001B[39;00m \u001B[38;5;28;01mimport\u001B[39;00m coerce_to_immutabledict \u001B[38;5;28;01mas\u001B[39;00m coerce_to_immutabledict\n\u001B[0;32m     17\u001B[0m \u001B[38;5;28;01mfrom\u001B[39;00m \u001B[38;5;21;01m.\u001B[39;00m\u001B[38;5;21;01m_collections\u001B[39;00m \u001B[38;5;28;01mimport\u001B[39;00m column_dict \u001B[38;5;28;01mas\u001B[39;00m column_dict\n",
      "File \u001B[1;32mD:\\软件\\Python\\lib\\site-packages\\sqlalchemy\\util\\_collections.py:39\u001B[0m\n\u001B[0;32m     36\u001B[0m \u001B[38;5;28;01mimport\u001B[39;00m \u001B[38;5;21;01mweakref\u001B[39;00m\n\u001B[0;32m     38\u001B[0m \u001B[38;5;28;01mfrom\u001B[39;00m \u001B[38;5;21;01m.\u001B[39;00m\u001B[38;5;21;01m_has_cy\u001B[39;00m \u001B[38;5;28;01mimport\u001B[39;00m HAS_CYEXTENSION\n\u001B[1;32m---> 39\u001B[0m \u001B[38;5;28;01mfrom\u001B[39;00m \u001B[38;5;21;01m.\u001B[39;00m\u001B[38;5;21;01mtyping\u001B[39;00m \u001B[38;5;28;01mimport\u001B[39;00m is_non_string_iterable\n\u001B[0;32m     40\u001B[0m \u001B[38;5;28;01mfrom\u001B[39;00m \u001B[38;5;21;01m.\u001B[39;00m\u001B[38;5;21;01mtyping\u001B[39;00m \u001B[38;5;28;01mimport\u001B[39;00m Literal\n\u001B[0;32m     41\u001B[0m \u001B[38;5;28;01mfrom\u001B[39;00m \u001B[38;5;21;01m.\u001B[39;00m\u001B[38;5;21;01mtyping\u001B[39;00m \u001B[38;5;28;01mimport\u001B[39;00m Protocol\n",
      "File \u001B[1;32mD:\\软件\\Python\\lib\\site-packages\\sqlalchemy\\util\\typing.py:59\u001B[0m\n\u001B[0;32m     57\u001B[0m \u001B[38;5;28;01mfrom\u001B[39;00m \u001B[38;5;21;01mtyping_extensions\u001B[39;00m \u001B[38;5;28;01mimport\u001B[39;00m TypeGuard \u001B[38;5;28;01mas\u001B[39;00m TypeGuard  \u001B[38;5;66;03m# 3.10\u001B[39;00m\n\u001B[0;32m     58\u001B[0m \u001B[38;5;28;01mfrom\u001B[39;00m \u001B[38;5;21;01mtyping_extensions\u001B[39;00m \u001B[38;5;28;01mimport\u001B[39;00m Self \u001B[38;5;28;01mas\u001B[39;00m Self  \u001B[38;5;66;03m# 3.11\u001B[39;00m\n\u001B[1;32m---> 59\u001B[0m \u001B[38;5;28;01mfrom\u001B[39;00m \u001B[38;5;21;01mtyping_extensions\u001B[39;00m \u001B[38;5;28;01mimport\u001B[39;00m TypeAliasType \u001B[38;5;28;01mas\u001B[39;00m TypeAliasType  \u001B[38;5;66;03m# 3.12\u001B[39;00m\n\u001B[0;32m     60\u001B[0m \u001B[38;5;28;01mfrom\u001B[39;00m \u001B[38;5;21;01mtyping_extensions\u001B[39;00m \u001B[38;5;28;01mimport\u001B[39;00m Never \u001B[38;5;28;01mas\u001B[39;00m Never  \u001B[38;5;66;03m# 3.11\u001B[39;00m\n\u001B[0;32m     61\u001B[0m \u001B[38;5;28;01mfrom\u001B[39;00m \u001B[38;5;21;01mtyping_extensions\u001B[39;00m \u001B[38;5;28;01mimport\u001B[39;00m LiteralString \u001B[38;5;28;01mas\u001B[39;00m LiteralString  \u001B[38;5;66;03m# 3.11\u001B[39;00m\n",
      "\u001B[1;31mImportError\u001B[0m: cannot import name 'TypeAliasType' from 'typing_extensions' (D:\\软件\\Python\\lib\\site-packages\\typing_extensions.py)"
     ]
    }
   ],
   "execution_count": 2
  },
  {
   "metadata": {
    "ExecuteTime": {
     "end_time": "2025-04-01T15:40:52.104734Z",
     "start_time": "2025-04-01T15:40:52.092528Z"
    }
   },
   "cell_type": "code",
   "source": "import pandas as pd",
   "id": "4fe072bf5231158e",
   "outputs": [],
   "execution_count": 17
  }
 ],
 "metadata": {
  "kernelspec": {
   "display_name": "Python 3",
   "language": "python",
   "name": "python3"
  },
  "language_info": {
   "codemirror_mode": {
    "name": "ipython",
    "version": 2
   },
   "file_extension": ".py",
   "mimetype": "text/x-python",
   "name": "python",
   "nbconvert_exporter": "python",
   "pygments_lexer": "ipython2",
   "version": "2.7.6"
  }
 },
 "nbformat": 4,
 "nbformat_minor": 5
}
